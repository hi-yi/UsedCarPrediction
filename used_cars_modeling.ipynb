{
 "cells": [
  {
   "cell_type": "code",
   "execution_count": 1,
   "id": "5389b1a1-a128-4e93-8266-5b3d6b6c99ed",
   "metadata": {},
   "outputs": [],
   "source": [
    "import pandas as pd\n",
    "import numpy as np\n",
    "import matplotlib.pyplot as plt\n",
    "import seaborn as sns\n",
    "from sklearn.impute import SimpleImputer\n",
    "from sklearn.preprocessing import MinMaxScaler, OneHotEncoder\n",
    "from sklearn.model_selection import KFold, cross_validate, cross_val_score, GridSearchCV\n",
    "from sklearn.metrics import root_mean_squared_error, make_scorer\n",
    "from sklearn.linear_model import LinearRegression, RidgeCV, LassoCV\n",
    "from sklearn.compose import ColumnTransformer, make_column_selector\n",
    "from sklearn.pipeline import Pipeline\n",
    "from sklearn.tree import DecisionTreeRegressor\n",
    "from lightgbm import LGBMRegressor\n",
    "from xgboost import XGBRegressor"
   ]
  },
  {
   "cell_type": "code",
   "execution_count": 2,
   "id": "55237890-ff18-4d66-b6fb-207983d2a59e",
   "metadata": {},
   "outputs": [],
   "source": [
    "X_train = pd.read_csv('/Users/yeong-injang/Desktop/kaggle/Used_cars/used_cars_x_train.csv')\n",
    "y_train = pd.read_csv('/Users/yeong-injang/Desktop/kaggle/Used_cars/used_cars_y_train.csv')\n",
    "X_test = pd.read_csv('/Users/yeong-injang/Desktop/kaggle/Used_cars/used_cars_x_test.csv')\n",
    "y_test = pd.read_csv('/Users/yeong-injang/Desktop/kaggle/Used_cars/used_cars_y_test.csv')"
   ]
  },
  {
   "cell_type": "code",
   "execution_count": 3,
   "id": "08c58df5-6ce6-47a4-a7d9-20b8a296614a",
   "metadata": {},
   "outputs": [
    {
     "name": "stdout",
     "output_type": "stream",
     "text": [
      "<class 'pandas.core.frame.DataFrame'>\n",
      "RangeIndex: 2775 entries, 0 to 2774\n",
      "Data columns (total 11 columns):\n",
      " #   Column               Non-Null Count  Dtype  \n",
      "---  ------               --------------  -----  \n",
      " 0   brand                2775 non-null   object \n",
      " 1   model_year           2775 non-null   int64  \n",
      " 2   milage               2775 non-null   int64  \n",
      " 3   fuel_type            2775 non-null   object \n",
      " 4   ext_col_norm         2775 non-null   object \n",
      " 5   int_col_norm         2775 non-null   object \n",
      " 6   accident             2775 non-null   object \n",
      " 7   clean_title          2775 non-null   object \n",
      " 8   engine_hp            2237 non-null   float64\n",
      " 9   engine_displacement  2623 non-null   float64\n",
      " 10  engine_c             2474 non-null   float64\n",
      "dtypes: float64(3), int64(2), object(6)\n",
      "memory usage: 238.6+ KB\n"
     ]
    }
   ],
   "source": [
    "X_train.info()"
   ]
  },
  {
   "cell_type": "code",
   "execution_count": 4,
   "id": "c3dd50c1-0f53-474a-bd7b-94634dc6638e",
   "metadata": {},
   "outputs": [
    {
     "name": "stdout",
     "output_type": "stream",
     "text": [
      "numeric columns : ['model_year', 'milage', 'engine_hp', 'engine_displacement', 'engine_c']\n",
      "categorical columns : ['brand', 'fuel_type', 'ext_col_norm', 'int_col_norm', 'accident', 'clean_title']\n"
     ]
    }
   ],
   "source": [
    "num = list(X_train.select_dtypes(include=np.number).columns)\n",
    "cat = list(X_train.select_dtypes(include='object').columns)\n",
    "print('numeric columns :', num)\n",
    "print('categorical columns :', cat)"
   ]
  },
  {
   "cell_type": "markdown",
   "id": "3eed47ef-b041-4b93-b515-dbbf3d0642ae",
   "metadata": {},
   "source": [
    "### Null Imputation"
   ]
  },
  {
   "cell_type": "code",
   "execution_count": 5,
   "id": "e3988201-3e97-4f2c-8e9a-00f3f151299a",
   "metadata": {},
   "outputs": [
    {
     "data": {
      "image/png": "[encoded data removed]",
      "text/plain": [
       "<Figure size 1500x500 with 3 Axes>"
      ]
     },
     "metadata": {},
     "output_type": "display_data"
    },
    {
     "name": "stdout",
     "output_type": "stream",
     "text": [
      "325 3.0 6.0\n"
     ]
    }
   ],
   "source": [
    "fig, ax = plt.subplots(1,3, figsize=(15,5))\n",
    "sns.histplot(X_train['engine_hp'], ax = ax[0])\n",
    "sns.histplot(X_train['engine_displacement'], ax = ax[1])\n",
    "sns.histplot(X_train['engine_c'], ax = ax[2])\n",
    "plt.show()\n",
    "print(round(X_train['engine_hp'].mean()), round(X_train['engine_displacement'].mean(),0), round(X_train['engine_c'].mean(),0))"
   ]
  },
  {
   "cell_type": "code",
   "execution_count": 6,
   "id": "ac82a271-9032-4c9e-ad7a-31e89985f622",
   "metadata": {},
   "outputs": [],
   "source": [
    "imp = SimpleImputer(strategy='mean')\n",
    "imp.fit(X_train[['engine_hp','engine_displacement','engine_c']])\n",
    "X_train[['engine_hp','engine_displacement','engine_c']] = imp.transform(X_train[['engine_hp','engine_displacement','engine_c']])\n",
    "X_test[['engine_hp','engine_displacement','engine_c']] = imp.transform(X_test[['engine_hp','engine_displacement','engine_c']])"
   ]
  },
  {
   "cell_type": "code",
   "execution_count": 9,
   "id": "bf6dcf17-6938-48c1-88f5-276f035367f8",
   "metadata": {},
   "outputs": [],
   "source": [
    "preprocessor = ColumnTransformer([('scaler', MinMaxScaler(), make_column_selector(dtype_include=np.number)),\n",
    "                        ('one-hot', OneHotEncoder(handle_unknown='ignore'), make_column_selector(dtype_include=object))])\n",
    "preprocessor.fit(X_train, y_train)\n",
    "scorer = make_scorer(root_mean_squared_error)\n",
    "kf = KFold(n_splits=10, shuffle=True, random_state=1)"
   ]
  },
  {
   "cell_type": "code",
   "execution_count": 11,
   "id": "2318aeff-c9d1-4f17-8989-1e8452f83ae7",
   "metadata": {},
   "outputs": [
    {
     "name": "stdout",
     "output_type": "stream",
     "text": [
      "Linear Regression : 11472.22\n",
      "Ridge : 11472.2\n",
      "Lasso : 11134.9\n",
      "DecisionTreeRegression : 12631.32\n"
     ]
    }
   ],
   "source": [
    "dt_param_grid = {'max_depth': np.arange(5,15),\n",
    "             'min_samples_leaf' : np.arange(1,5)}\n",
    "dt = DecisionTreeRegressor()\n",
    "dt_grid_search = GridSearchCV(estimator=dt, param_grid=dt_param_grid, \n",
    "                           cv=10, n_jobs=-1, scoring=scorer)\n",
    "dt_grid_search.fit(preprocessor.transform(X_train).toarray(), y_train)\n",
    "\n",
    "\n",
    "models = {'Linear Regression' : LinearRegression(),\n",
    "         'Ridge' : RidgeCV(alphas=[0.001, 0.005, 0.01, 0.05, 0.1, 0.5, 1], scoring=scorer, cv=kf),\n",
    "         'Lasso' : LassoCV(cv=kf),\n",
    "          'DecisionTreeRegression' : DecisionTreeRegressor().set_params(**dt_grid_search.best_params_)\n",
    "}\n",
    "\n",
    "for name, model in models.items():\n",
    "    \n",
    "    pipeline = Pipeline([\n",
    "        ('preprocessor', preprocessor),\n",
    "        ('model', model)])\n",
    "\n",
    "    if name == 'Ridge':\n",
    "        pipeline.fit(X_train, y_train)\n",
    "        cv_score = model.best_score_\n",
    "    elif name == 'Lasso':\n",
    "        pipeline.fit(X_train, y_train['price'])\n",
    "        cv_score = root_mean_squared_error(model.predict(preprocessor.transform(X_train)), y_train)\n",
    "    else:\n",
    "        cv_score = cross_val_score(pipeline, X_train, y_train['price'], scoring=scorer, cv=kf).mean()\n",
    "    \n",
    "    print(name, ':', round(cv_score,2))"
   ]
  },
  {
   "cell_type": "code",
   "execution_count": null,
   "id": "35930336-b964-420a-824d-cbd5ee7d0cb4",
   "metadata": {
    "scrolled": true
   },
   "outputs": [],
   "source": []
  },
  {
   "cell_type": "code",
   "execution_count": null,
   "id": "cd4087ee-b7a4-4532-abd4-10d56d0ce486",
   "metadata": {
    "scrolled": true
   },
   "outputs": [],
   "source": []
  },
  {
   "cell_type": "code",
   "execution_count": null,
   "id": "8f6853c3-bc63-40f9-aca8-bc850374e36f",
   "metadata": {},
   "outputs": [],
   "source": []
  },
  {
   "cell_type": "code",
   "execution_count": null,
   "id": "665bcb51-5c01-45b0-9d1e-5617e9831a34",
   "metadata": {},
   "outputs": [],
   "source": []
  },
  {
   "cell_type": "code",
   "execution_count": null,
   "id": "276e7165-0951-47df-8c8e-811b8f1d034d",
   "metadata": {},
   "outputs": [],
   "source": []
  },
  {
   "cell_type": "code",
   "execution_count": null,
   "id": "82964f25-9038-4b74-92d6-8dba8087d812",
   "metadata": {},
   "outputs": [],
   "source": []
  },
  {
   "cell_type": "code",
   "execution_count": 12,
   "id": "9b96131c-60c5-479a-83ad-b99d4e4f1dd7",
   "metadata": {},
   "outputs": [
    {
     "data": {
      "text/html": [
       "<div>\n",
       "<style scoped>\n",
       "    .dataframe tbody tr th:only-of-type {\n",
       "        vertical-align: middle;\n",
       "    }\n",
       "\n",
       "    .dataframe tbody tr th {\n",
       "        vertical-align: top;\n",
       "    }\n",
       "\n",
       "    .dataframe thead th {\n",
       "        text-align: right;\n",
       "    }\n",
       "</style>\n",
       "<table border=\"1\" class=\"dataframe\">\n",
       "  <thead>\n",
       "    <tr style=\"text-align: right;\">\n",
       "      <th></th>\n",
       "      <th>scaler__model_year</th>\n",
       "      <th>scaler__milage</th>\n",
       "      <th>scaler__engine_hp</th>\n",
       "      <th>scaler__engine_displacement</th>\n",
       "      <th>scaler__engine_c</th>\n",
       "      <th>one-hot__brand_Acura</th>\n",
       "      <th>one-hot__brand_Alfa</th>\n",
       "      <th>one-hot__brand_Aston</th>\n",
       "      <th>one-hot__brand_Audi</th>\n",
       "      <th>one-hot__brand_BMW</th>\n",
       "      <th>...</th>\n",
       "      <th>one-hot__int_col_norm_Orange</th>\n",
       "      <th>one-hot__int_col_norm_Others</th>\n",
       "      <th>one-hot__int_col_norm_Red</th>\n",
       "      <th>one-hot__int_col_norm_Silver</th>\n",
       "      <th>one-hot__int_col_norm_White</th>\n",
       "      <th>one-hot__accident_At least 1 accident or damage reported</th>\n",
       "      <th>one-hot__accident_None reported</th>\n",
       "      <th>one-hot__accident_Unknown</th>\n",
       "      <th>one-hot__clean_title_Unknown</th>\n",
       "      <th>one-hot__clean_title_Yes</th>\n",
       "    </tr>\n",
       "  </thead>\n",
       "  <tbody>\n",
       "    <tr>\n",
       "      <th>0</th>\n",
       "      <td>0.78125</td>\n",
       "      <td>0.511193</td>\n",
       "      <td>0.262697</td>\n",
       "      <td>0.000000</td>\n",
       "      <td>0.111111</td>\n",
       "      <td>0.0</td>\n",
       "      <td>0.0</td>\n",
       "      <td>0.0</td>\n",
       "      <td>0.0</td>\n",
       "      <td>0.0</td>\n",
       "      <td>...</td>\n",
       "      <td>0.0</td>\n",
       "      <td>0.0</td>\n",
       "      <td>0.0</td>\n",
       "      <td>0.0</td>\n",
       "      <td>0.0</td>\n",
       "      <td>1.0</td>\n",
       "      <td>0.0</td>\n",
       "      <td>0.0</td>\n",
       "      <td>1.0</td>\n",
       "      <td>0.0</td>\n",
       "    </tr>\n",
       "    <tr>\n",
       "      <th>1</th>\n",
       "      <td>0.93750</td>\n",
       "      <td>0.144696</td>\n",
       "      <td>0.262697</td>\n",
       "      <td>0.444444</td>\n",
       "      <td>0.333333</td>\n",
       "      <td>0.0</td>\n",
       "      <td>0.0</td>\n",
       "      <td>0.0</td>\n",
       "      <td>0.0</td>\n",
       "      <td>0.0</td>\n",
       "      <td>...</td>\n",
       "      <td>0.0</td>\n",
       "      <td>0.0</td>\n",
       "      <td>0.0</td>\n",
       "      <td>0.0</td>\n",
       "      <td>0.0</td>\n",
       "      <td>0.0</td>\n",
       "      <td>1.0</td>\n",
       "      <td>0.0</td>\n",
       "      <td>1.0</td>\n",
       "      <td>0.0</td>\n",
       "    </tr>\n",
       "    <tr>\n",
       "      <th>2</th>\n",
       "      <td>0.96875</td>\n",
       "      <td>0.057963</td>\n",
       "      <td>0.246285</td>\n",
       "      <td>0.666667</td>\n",
       "      <td>0.333333</td>\n",
       "      <td>0.0</td>\n",
       "      <td>0.0</td>\n",
       "      <td>0.0</td>\n",
       "      <td>0.0</td>\n",
       "      <td>0.0</td>\n",
       "      <td>...</td>\n",
       "      <td>0.0</td>\n",
       "      <td>0.0</td>\n",
       "      <td>0.0</td>\n",
       "      <td>0.0</td>\n",
       "      <td>0.0</td>\n",
       "      <td>0.0</td>\n",
       "      <td>1.0</td>\n",
       "      <td>0.0</td>\n",
       "      <td>0.0</td>\n",
       "      <td>1.0</td>\n",
       "    </tr>\n",
       "    <tr>\n",
       "      <th>3</th>\n",
       "      <td>0.65625</td>\n",
       "      <td>0.588745</td>\n",
       "      <td>0.345011</td>\n",
       "      <td>0.222222</td>\n",
       "      <td>0.555556</td>\n",
       "      <td>0.0</td>\n",
       "      <td>0.0</td>\n",
       "      <td>0.0</td>\n",
       "      <td>0.0</td>\n",
       "      <td>0.0</td>\n",
       "      <td>...</td>\n",
       "      <td>0.0</td>\n",
       "      <td>0.0</td>\n",
       "      <td>0.0</td>\n",
       "      <td>0.0</td>\n",
       "      <td>0.0</td>\n",
       "      <td>0.0</td>\n",
       "      <td>0.0</td>\n",
       "      <td>1.0</td>\n",
       "      <td>1.0</td>\n",
       "      <td>0.0</td>\n",
       "    </tr>\n",
       "    <tr>\n",
       "      <th>4</th>\n",
       "      <td>0.87500</td>\n",
       "      <td>0.115070</td>\n",
       "      <td>0.262697</td>\n",
       "      <td>0.000000</td>\n",
       "      <td>0.111111</td>\n",
       "      <td>0.0</td>\n",
       "      <td>1.0</td>\n",
       "      <td>0.0</td>\n",
       "      <td>0.0</td>\n",
       "      <td>0.0</td>\n",
       "      <td>...</td>\n",
       "      <td>0.0</td>\n",
       "      <td>0.0</td>\n",
       "      <td>0.0</td>\n",
       "      <td>0.0</td>\n",
       "      <td>0.0</td>\n",
       "      <td>0.0</td>\n",
       "      <td>0.0</td>\n",
       "      <td>1.0</td>\n",
       "      <td>1.0</td>\n",
       "      <td>0.0</td>\n",
       "    </tr>\n",
       "  </tbody>\n",
       "</table>\n",
       "<p>5 rows × 94 columns</p>\n",
       "</div>"
      ],
      "text/plain": [
       "   scaler__model_year  scaler__milage  scaler__engine_hp  \\\n",
       "0             0.78125        0.511193           0.262697   \n",
       "1             0.93750        0.144696           0.262697   \n",
       "2             0.96875        0.057963           0.246285   \n",
       "3             0.65625        0.588745           0.345011   \n",
       "4             0.87500        0.115070           0.262697   \n",
       "\n",
       "   scaler__engine_displacement  scaler__engine_c  one-hot__brand_Acura  \\\n",
       "0                     0.000000          0.111111                   0.0   \n",
       "1                     0.444444          0.333333                   0.0   \n",
       "2                     0.666667          0.333333                   0.0   \n",
       "3                     0.222222          0.555556                   0.0   \n",
       "4                     0.000000          0.111111                   0.0   \n",
       "\n",
       "   one-hot__brand_Alfa  one-hot__brand_Aston  one-hot__brand_Audi  \\\n",
       "0                  0.0                   0.0                  0.0   \n",
       "1                  0.0                   0.0                  0.0   \n",
       "2                  0.0                   0.0                  0.0   \n",
       "3                  0.0                   0.0                  0.0   \n",
       "4                  1.0                   0.0                  0.0   \n",
       "\n",
       "   one-hot__brand_BMW  ...  one-hot__int_col_norm_Orange  \\\n",
       "0                 0.0  ...                           0.0   \n",
       "1                 0.0  ...                           0.0   \n",
       "2                 0.0  ...                           0.0   \n",
       "3                 0.0  ...                           0.0   \n",
       "4                 0.0  ...                           0.0   \n",
       "\n",
       "   one-hot__int_col_norm_Others  one-hot__int_col_norm_Red  \\\n",
       "0                           0.0                        0.0   \n",
       "1                           0.0                        0.0   \n",
       "2                           0.0                        0.0   \n",
       "3                           0.0                        0.0   \n",
       "4                           0.0                        0.0   \n",
       "\n",
       "   one-hot__int_col_norm_Silver  one-hot__int_col_norm_White  \\\n",
       "0                           0.0                          0.0   \n",
       "1                           0.0                          0.0   \n",
       "2                           0.0                          0.0   \n",
       "3                           0.0                          0.0   \n",
       "4                           0.0                          0.0   \n",
       "\n",
       "   one-hot__accident_At least 1 accident or damage reported  \\\n",
       "0                                                1.0          \n",
       "1                                                0.0          \n",
       "2                                                0.0          \n",
       "3                                                0.0          \n",
       "4                                                0.0          \n",
       "\n",
       "   one-hot__accident_None reported  one-hot__accident_Unknown  \\\n",
       "0                              0.0                        0.0   \n",
       "1                              1.0                        0.0   \n",
       "2                              1.0                        0.0   \n",
       "3                              0.0                        1.0   \n",
       "4                              0.0                        1.0   \n",
       "\n",
       "   one-hot__clean_title_Unknown  one-hot__clean_title_Yes  \n",
       "0                           1.0                       0.0  \n",
       "1                           1.0                       0.0  \n",
       "2                           0.0                       1.0  \n",
       "3                           1.0                       0.0  \n",
       "4                           1.0                       0.0  \n",
       "\n",
       "[5 rows x 94 columns]"
      ]
     },
     "execution_count": 12,
     "metadata": {},
     "output_type": "execute_result"
    }
   ],
   "source": [
    "# prepare X_test to predict y_test\n",
    "preprocessor.fit(X_train)\n",
    "X_test = pd.DataFrame(preprocessor.transform(X_test).toarray(), columns=preprocessor.get_feature_names_out())\n",
    "X_test.head()"
   ]
  },
  {
   "cell_type": "code",
   "execution_count": null,
   "id": "ab02b18a-fb46-4b08-9547-3427bd038d80",
   "metadata": {},
   "outputs": [],
   "source": []
  },
  {
   "cell_type": "code",
   "execution_count": null,
   "id": "a65d3272-277a-487c-af85-32082bdcfd40",
   "metadata": {},
   "outputs": [],
   "source": []
  },
  {
   "cell_type": "code",
   "execution_count": null,
   "id": "61741289-8d9e-4dc5-a5c8-eaa952e50460",
   "metadata": {},
   "outputs": [],
   "source": []
  },
  {
   "cell_type": "code",
   "execution_count": null,
   "id": "7d7ab5d6-b2a5-485e-8ae6-6f0b73aa46b4",
   "metadata": {},
   "outputs": [],
   "source": []
  },
  {
   "cell_type": "code",
   "execution_count": null,
   "id": "e1d14e64-1be1-4143-a260-0d3a7a26094e",
   "metadata": {},
   "outputs": [],
   "source": []
  },
  {
   "cell_type": "code",
   "execution_count": null,
   "id": "4314d437-abd3-4e00-b572-29eb16cdfd91",
   "metadata": {},
   "outputs": [],
   "source": []
  },
  {
   "cell_type": "code",
   "execution_count": null,
   "id": "fb89fd1d-b0fb-4590-b2ab-189275db2b7b",
   "metadata": {},
   "outputs": [],
   "source": []
  }
 ],
 "metadata": {
  "kernelspec": {
   "display_name": "Python 3 (ipykernel)",
   "language": "python",
   "name": "python3"
  },
  "language_info": {
   "codemirror_mode": {
    "name": "ipython",
    "version": 3
   },
   "file_extension": ".py",
   "mimetype": "text/x-python",
   "name": "python",
   "nbconvert_exporter": "python",
   "pygments_lexer": "ipython3",
   "version": "3.12.2"
  }
 },
 "nbformat": 4,
 "nbformat_minor": 5
}
